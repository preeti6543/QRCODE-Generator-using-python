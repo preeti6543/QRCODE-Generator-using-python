{
 "cells": [
  {
   "cell_type": "code",
   "execution_count": 3,
   "id": "f01b4df3",
   "metadata": {},
   "outputs": [
    {
     "name": "stdout",
     "output_type": "stream",
     "text": [
      "Enter your link / secret massge:https://youtu.be/jNDFRzls9Yk\n"
     ]
    }
   ],
   "source": [
    "import pyqrcode\n",
    "from pyqrcode import QRCode\n",
    " \n",
    "# String which represent the QR code\n",
    "s=input(\"Enter your link / secret massge:\") \n",
    "# Generate QR code\n",
    "url = pyqrcode.create(s)\n",
    " \n",
    "# Create and save the png file naming \"myqr.png\"\n",
    "url.svg(\"myqrcode.svg\",scale=8)"
   ]
  },
  {
   "cell_type": "code",
   "execution_count": null,
   "id": "1faa169b",
   "metadata": {},
   "outputs": [],
   "source": []
  }
 ],
 "metadata": {
  "kernelspec": {
   "display_name": "Python 3 (ipykernel)",
   "language": "python",
   "name": "python3"
  },
  "language_info": {
   "codemirror_mode": {
    "name": "ipython",
    "version": 3
   },
   "file_extension": ".py",
   "mimetype": "text/x-python",
   "name": "python",
   "nbconvert_exporter": "python",
   "pygments_lexer": "ipython3",
   "version": "3.11.3"
  }
 },
 "nbformat": 4,
 "nbformat_minor": 5
}
